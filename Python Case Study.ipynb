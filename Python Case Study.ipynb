{
 "cells": [
  {
   "cell_type": "code",
   "execution_count": 1,
   "id": "3943f6c1",
   "metadata": {},
   "outputs": [],
   "source": [
    "import random"
   ]
  },
  {
   "cell_type": "code",
   "execution_count": 4,
   "id": "6dede7db",
   "metadata": {},
   "outputs": [
    {
     "name": "stdout",
     "output_type": "stream",
     "text": [
      "number selected is: 1\n",
      "Do u want to continue (Y/N)y\n",
      "number selected is: 4\n",
      "Do u want to continue (Y/N)y\n",
      "number selected is: 2\n",
      "Do u want to continue (Y/N)y\n",
      "number selected is: 1\n",
      "Do u want to continue (Y/N)n\n",
      "*******FINISHED******\n"
     ]
    }
   ],
   "source": [
    "def select():\n",
    "    x=random.randint(1,6)\n",
    "    print(\"number selected is:\",x)\n",
    "x='y'\n",
    "while(x=='y'):\n",
    "    select()\n",
    "    x=input(\"Do u want to continue (Y/N)\")\n",
    "print(\"*******FINISHED******\")\n",
    "    \n",
    "    "
   ]
  },
  {
   "cell_type": "code",
   "execution_count": null,
   "id": "de8ac3f1",
   "metadata": {},
   "outputs": [],
   "source": []
  }
 ],
 "metadata": {
  "kernelspec": {
   "display_name": "Python 3 (ipykernel)",
   "language": "python",
   "name": "python3"
  },
  "language_info": {
   "codemirror_mode": {
    "name": "ipython",
    "version": 3
   },
   "file_extension": ".py",
   "mimetype": "text/x-python",
   "name": "python",
   "nbconvert_exporter": "python",
   "pygments_lexer": "ipython3",
   "version": "3.10.11"
  }
 },
 "nbformat": 4,
 "nbformat_minor": 5
}
